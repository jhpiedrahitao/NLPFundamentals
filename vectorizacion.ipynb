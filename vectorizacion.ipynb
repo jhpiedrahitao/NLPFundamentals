{
 "metadata": {
  "language_info": {
   "codemirror_mode": {
    "name": "ipython",
    "version": 3
   },
   "file_extension": ".py",
   "mimetype": "text/x-python",
   "name": "python",
   "nbconvert_exporter": "python",
   "pygments_lexer": "ipython3",
   "version": "3.8.5"
  },
  "orig_nbformat": 2,
  "kernelspec": {
   "name": "pythonjvsc74a57bd0f77ab594106dd73660231944fbe53e471c1200c11841f35b0c502deaf72507b0",
   "display_name": "Python 3.8.5 64-bit ('venv': venv)"
  },
  "metadata": {
   "interpreter": {
    "hash": "f77ab594106dd73660231944fbe53e471c1200c11841f35b0c502deaf72507b0"
   }
  }
 },
 "nbformat": 4,
 "nbformat_minor": 2,
 "cells": [
  {
   "cell_type": "code",
   "execution_count": 35,
   "metadata": {},
   "outputs": [],
   "source": [
    "import pandas as pd \n",
    "import numpy as np \n",
    "from UtilisNLP import UtilisNLP\n",
    "from sklearn.feature_extraction.text import TfidfVectorizer"
   ]
  },
  {
   "source": [
    "## Vectorizadores\n",
    "\n",
    "### Bag of words -> a cada palabra le asigna un vector unitario en un espacio de dimension del tamaño del vocabulario\n",
    "\n",
    "### Tfidf -> term frecuency inverse diverse frecuency, relacion de frecuencias entre cantidad de veces que sale cada palabra por documento, y en cuantos docuemntos sale cada palabra, con esto se filtran palabra my repetitivas y palabras de pocas apariciones, obteniendo un espacio con dimensiones menos a back of words, luego a cada palabr ase le asigna un magnitud de sufrecuencia en documentos. para una frase completa se suman sus vectores y se divide en la cantidad de palabras \n",
    "\n",
    "### Word2Vect -> red neuronal, aprende a predecir palabras intermedias deacuerdo al contexto  entran palabras anteriores y palabras posteriores y predice la palabra intermedias, es una red de 3 capas donde la primera y la ultima tienen vocabulario neuronas, y hay una capa intermedia de pocas neuronas, la red se entrna para que con un conjunto de enttradas (contexto) prediga la palabra de salida, luego la vectorizacion de cada palabra sera el arreglo de los pesos de entra de esa palabra a la capa intermedia. se pueden encontrar palabra semejantes o sinonimos con vectores similares, dado que deben salir en contextos similares \n",
    "\n",
    "### Otros"
   ],
   "cell_type": "markdown",
   "metadata": {}
  },
  {
   "cell_type": "code",
   "execution_count": 12,
   "metadata": {},
   "outputs": [
    {
     "output_type": "execute_result",
     "data": {
      "text/plain": [
       "                                           Iteración  \\\n",
       "0                                        mt103 44946   \n",
       "1  hay parqueadero en la sede de la carrera 15 co...   \n",
       "2  Deseo saber si ya puedo renovar la camara de c...   \n",
       "3                quiero acercarme a una de las sedes   \n",
       "4                                      10 48 942 337   \n",
       "\n",
       "                               Tipificación  \n",
       "0  Neutral, intenciones, tree_emotion_class  \n",
       "1  Neutral, intenciones, tree_emotion_class  \n",
       "2  Neutral, intenciones, tree_emotion_class  \n",
       "3  Neutral, intenciones, tree_emotion_class  \n",
       "4  Neutral, intenciones, tree_emotion_class  "
      ],
      "text/html": "<div>\n<style scoped>\n    .dataframe tbody tr th:only-of-type {\n        vertical-align: middle;\n    }\n\n    .dataframe tbody tr th {\n        vertical-align: top;\n    }\n\n    .dataframe thead th {\n        text-align: right;\n    }\n</style>\n<table border=\"1\" class=\"dataframe\">\n  <thead>\n    <tr style=\"text-align: right;\">\n      <th></th>\n      <th>Iteración</th>\n      <th>Tipificación</th>\n    </tr>\n  </thead>\n  <tbody>\n    <tr>\n      <th>0</th>\n      <td>mt103 44946</td>\n      <td>Neutral, intenciones, tree_emotion_class</td>\n    </tr>\n    <tr>\n      <th>1</th>\n      <td>hay parqueadero en la sede de la carrera 15 co...</td>\n      <td>Neutral, intenciones, tree_emotion_class</td>\n    </tr>\n    <tr>\n      <th>2</th>\n      <td>Deseo saber si ya puedo renovar la camara de c...</td>\n      <td>Neutral, intenciones, tree_emotion_class</td>\n    </tr>\n    <tr>\n      <th>3</th>\n      <td>quiero acercarme a una de las sedes</td>\n      <td>Neutral, intenciones, tree_emotion_class</td>\n    </tr>\n    <tr>\n      <th>4</th>\n      <td>10 48 942 337</td>\n      <td>Neutral, intenciones, tree_emotion_class</td>\n    </tr>\n  </tbody>\n</table>\n</div>"
     },
     "metadata": {},
     "execution_count": 12
    }
   ],
   "source": [
    "df=pd.read_csv(\"datasets/emocionesEspañol.csv\",sep=\";\")\n",
    "df = df.loc[:, ~df.columns.str.contains('^Unnamed')]\n",
    "df.head()"
   ]
  },
  {
   "cell_type": "code",
   "execution_count": 16,
   "metadata": {},
   "outputs": [
    {
     "output_type": "execute_result",
     "data": {
      "text/plain": [
       "Neutral, intenciones, tree_emotion_class     8299\n",
       "Negativo, intenciones, tree_emotion_class    1145\n",
       "Positivo, intenciones, tree_emotion_class     574\n",
       "Name: Tipificación, dtype: int64"
      ]
     },
     "metadata": {},
     "execution_count": 16
    }
   ],
   "source": [
    "#conteo de tipificación\n",
    "df[\"Tipificación\"].value_counts()"
   ]
  },
  {
   "cell_type": "code",
   "execution_count": 31,
   "metadata": {},
   "outputs": [],
   "source": [
    "NLP=UtilisNLP()"
   ]
  },
  {
   "cell_type": "code",
   "execution_count": 36,
   "metadata": {},
   "outputs": [
    {
     "output_type": "execute_result",
     "data": {
      "text/plain": [
       "                                           Iteración  \\\n",
       "0                                        mt103 44946   \n",
       "1  hay parqueadero en la sede de la carrera 15 co...   \n",
       "2  Deseo saber si ya puedo renovar la camara de c...   \n",
       "3                quiero acercarme a una de las sedes   \n",
       "4                                      10 48 942 337   \n",
       "\n",
       "                               Tipificación  \\\n",
       "0  Neutral, intenciones, tree_emotion_class   \n",
       "1  Neutral, intenciones, tree_emotion_class   \n",
       "2  Neutral, intenciones, tree_emotion_class   \n",
       "3  Neutral, intenciones, tree_emotion_class   \n",
       "4  Neutral, intenciones, tree_emotion_class   \n",
       "\n",
       "                                                Lema  \n",
       "0                                                 mt  \n",
       "1                     haber parqueadero sede carrera  \n",
       "2  desear saber si ya poder renovar camara comerc...  \n",
       "3                              querer acercar yo sed  \n",
       "4                                                     "
      ],
      "text/html": "<div>\n<style scoped>\n    .dataframe tbody tr th:only-of-type {\n        vertical-align: middle;\n    }\n\n    .dataframe tbody tr th {\n        vertical-align: top;\n    }\n\n    .dataframe thead th {\n        text-align: right;\n    }\n</style>\n<table border=\"1\" class=\"dataframe\">\n  <thead>\n    <tr style=\"text-align: right;\">\n      <th></th>\n      <th>Iteración</th>\n      <th>Tipificación</th>\n      <th>Lema</th>\n    </tr>\n  </thead>\n  <tbody>\n    <tr>\n      <th>0</th>\n      <td>mt103 44946</td>\n      <td>Neutral, intenciones, tree_emotion_class</td>\n      <td>mt</td>\n    </tr>\n    <tr>\n      <th>1</th>\n      <td>hay parqueadero en la sede de la carrera 15 co...</td>\n      <td>Neutral, intenciones, tree_emotion_class</td>\n      <td>haber parqueadero sede carrera</td>\n    </tr>\n    <tr>\n      <th>2</th>\n      <td>Deseo saber si ya puedo renovar la camara de c...</td>\n      <td>Neutral, intenciones, tree_emotion_class</td>\n      <td>desear saber si ya poder renovar camara comerc...</td>\n    </tr>\n    <tr>\n      <th>3</th>\n      <td>quiero acercarme a una de las sedes</td>\n      <td>Neutral, intenciones, tree_emotion_class</td>\n      <td>querer acercar yo sed</td>\n    </tr>\n    <tr>\n      <th>4</th>\n      <td>10 48 942 337</td>\n      <td>Neutral, intenciones, tree_emotion_class</td>\n      <td></td>\n    </tr>\n  </tbody>\n</table>\n</div>"
     },
     "metadata": {},
     "execution_count": 36
    }
   ],
   "source": [
    "df[\"Lema\"]=df[\"Iteración\"].apply(NLP.prprocessor)\n",
    "df.head()"
   ]
  },
  {
   "cell_type": "code",
   "execution_count": 37,
   "metadata": {},
   "outputs": [],
   "source": [
    "tfidfnator=TfidfVectorizer(ngram_range=(2,3),min_df=5,max_df=0.7,)\n",
    "#min df minimo total de apariciones en todo el conjunto de documuntos en cantidad o porcentaje\n",
    "#max df maximo total de apariciones por documento\n",
    "#ngram  minimo y maximo ngrama a tomar"
   ]
  },
  {
   "cell_type": "code",
   "execution_count": 40,
   "metadata": {},
   "outputs": [
    {
     "output_type": "execute_result",
     "data": {
      "text/plain": [
       "TfidfVectorizer(max_df=0.7, min_df=5, ngram_range=(2, 3))"
      ]
     },
     "metadata": {},
     "execution_count": 40
    }
   ],
   "source": [
    "tfidfnator.fit(df[\"Lema\"])"
   ]
  },
  {
   "cell_type": "code",
   "execution_count": 55,
   "metadata": {},
   "outputs": [
    {
     "output_type": "stream",
     "name": "stdout",
     "text": [
      "(10018, 6120)\n"
     ]
    }
   ],
   "source": [
    "features=tfidfnator.transform(df[\"Lema\"])\n",
    "print(features.shape)"
   ]
  },
  {
   "cell_type": "code",
   "execution_count": 54,
   "metadata": {},
   "outputs": [
    {
     "output_type": "execute_result",
     "data": {
      "text/plain": [
       "(1, 6120)"
      ]
     },
     "metadata": {},
     "execution_count": 54
    }
   ],
   "source": [
    "vect=tfidfnator.transform([\"muchas gracias servicio bueno\"])\n",
    "vect.shape"
   ]
  },
  {
   "cell_type": "code",
   "execution_count": null,
   "metadata": {},
   "outputs": [],
   "source": []
  }
 ]
}