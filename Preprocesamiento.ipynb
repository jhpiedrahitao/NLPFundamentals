{
 "metadata": {
  "orig_nbformat": 2,
  "kernelspec": {
   "name": "python385jvsc74a57bd0f77ab594106dd73660231944fbe53e471c1200c11841f35b0c502deaf72507b0",
   "display_name": "Python 3.8.5 64-bit ('venv')"
  },
  "metadata": {
   "interpreter": {
    "hash": "f77ab594106dd73660231944fbe53e471c1200c11841f35b0c502deaf72507b0"
   }
  }
 },
 "nbformat": 4,
 "nbformat_minor": 2,
 "cells": [
  {
   "cell_type": "code",
   "execution_count": 15,
   "metadata": {},
   "outputs": [],
   "source": [
    "import spacy\n",
    "import pandas as pd \n",
    "import numpy as np \n",
    "import unidecode\n",
    "import regex as re\n"
   ]
  },
  {
   "cell_type": "code",
   "execution_count": 30,
   "metadata": {},
   "outputs": [],
   "source": [
    "sentence = \"Rafael es una pesona muy poco amable, el siempre come más de lo que debe y me deja muy poco a mi, el año pasado, El se comio 18 royos de sushi y yo solo como 3, habian de Salmor, Atün y Teriyaki\""
   ]
  },
  {
   "cell_type": "code",
   "execution_count": 31,
   "metadata": {},
   "outputs": [
    {
     "output_type": "stream",
     "name": "stdout",
     "text": [
      "rafael es una pesona muy poco amable, el siempre come más de lo que debe y me deja muy poco a mi, el año pasado, el se comio 18 royos de sushi y yo solo como 3, habian de salmor, atün y teriyaki\n"
     ]
    }
   ],
   "source": [
    "sentence=sentence.lower()\n",
    "print(sentence)"
   ]
  },
  {
   "cell_type": "code",
   "execution_count": 32,
   "metadata": {},
   "outputs": [
    {
     "output_type": "stream",
     "name": "stdout",
     "text": [
      "rafael es una pesona muy poco amable, el siempre come mas de lo que debe y me deja muy poco a mi, el ano pasado, el se comio 18 royos de sushi y yo solo como 3, habian de salmor, atun y teriyaki\n"
     ]
    }
   ],
   "source": [
    "sentence=unidecode.unidecode(sentence)\n",
    "print(sentence)"
   ]
  },
  {
   "cell_type": "code",
   "execution_count": 33,
   "metadata": {},
   "outputs": [
    {
     "output_type": "stream",
     "name": "stdout",
     "text": [
      "rafael es una pesona muy poco amable  el siempre come mas de lo que debe y me deja muy poco a mi  el ano pasado  el se comio 18 royos de sushi y yo solo como 3  habian de salmor  atun y teriyaki\n"
     ]
    }
   ],
   "source": [
    "sentence=re.sub('[^\\w]',\" \",sentence)\n",
    "print(sentence)"
   ]
  },
  {
   "cell_type": "code",
   "execution_count": 34,
   "metadata": {},
   "outputs": [
    {
     "output_type": "stream",
     "name": "stdout",
     "text": [
      "rafael es una pesona muy poco amable  el siempre come mas de lo que debe y me deja muy poco a mi  el ano pasado  el se comio    royos de sushi y yo solo como    habian de salmor  atun y teriyaki\n"
     ]
    }
   ],
   "source": [
    "sentence=re.sub('\\d',\" \",sentence)\n",
    "print(sentence)"
   ]
  },
  {
   "cell_type": "code",
   "execution_count": 35,
   "metadata": {},
   "outputs": [],
   "source": [
    "nlp=spacy.load(\"es_core_news_md\")"
   ]
  },
  {
   "cell_type": "code",
   "execution_count": 39,
   "metadata": {},
   "outputs": [
    {
     "output_type": "stream",
     "name": "stdout",
     "text": [
      "rafael es una pesona muy poco amable  el siempre come mas de lo que debe y me deja muy poco a mi  el ano pasado  el se comio    royos de sushi y yo solo como    habian de salmor  atun y teriyaki\n"
     ]
    }
   ],
   "source": [
    "doc=nlp(sentence)\n",
    "print(doc)"
   ]
  },
  {
   "cell_type": "code",
   "execution_count": 54,
   "metadata": {},
   "outputs": [],
   "source": [
    "concatText=\"\"\n",
    "stopWords=[\"PRON\",\"DET\",\"CCONJ\",\"ADP\"]\n",
    "lemma=True\n",
    "for part in doc:\n",
    "    if part.pos_ not in stopWords:\n",
    "        if lemma: \n",
    "            concatText+=part.lemma_+\" \"\n",
    "        else:\n",
    "            concatText+=part.text"
   ]
  },
  {
   "cell_type": "code",
   "execution_count": 55,
   "metadata": {},
   "outputs": [
    {
     "output_type": "stream",
     "name": "stdout",
     "text": [
      "rafael ser pesona mucho poco amable   siempre come mas deber dejar mucho poco   ano pasado   comio     royo sushi solo como     habian salmor   atun teriyaki \n"
     ]
    }
   ],
   "source": [
    "print(concatText)"
   ]
  },
  {
   "cell_type": "code",
   "execution_count": 56,
   "metadata": {},
   "outputs": [],
   "source": [
    "concatText=\" \".join(concatText.split())"
   ]
  },
  {
   "cell_type": "code",
   "execution_count": 57,
   "metadata": {},
   "outputs": [
    {
     "output_type": "stream",
     "name": "stdout",
     "text": [
      "rafael ser pesona mucho poco amable siempre come mas deber dejar mucho poco ano pasado comio royo sushi solo como habian salmor atun teriyaki\n"
     ]
    }
   ],
   "source": [
    "print(concatText)"
   ]
  },
  {
   "cell_type": "code",
   "execution_count": null,
   "metadata": {},
   "outputs": [],
   "source": []
  }
 ]
}